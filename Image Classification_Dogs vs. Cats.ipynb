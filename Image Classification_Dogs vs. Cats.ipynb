{
 "cells": [
  {
   "cell_type": "markdown",
   "id": "a46f2907-243a-4907-8a49-e81b10352d42",
   "metadata": {},
   "source": [
    "## Description\n",
    "In 2013, we hosted one of our favorite for-fun competitions:  Dogs vs. Cats. Much has since changed in the machine learning landscape, particularly in deep learning and image analysis. Back then, a tensor flow was the diffusion of the creamer in a bored mathematician's cup of coffee. Now, even the cucumber farmers are neural netting their way to a bounty.\n",
    "\n",
    "## Dataset\n",
    "The train folder contains 25,000 images of dogs and cats. Each image in this folder has the label as part of the filename. The test folder contains 12,500 images, named according to a numeric id. For each image in the test set, you should predict a probability that the image is a dog (1 = dog, 0 = cat)."
   ]
  },
  {
   "cell_type": "code",
   "execution_count": 2,
   "id": "c6b94702-a890-43d6-ba85-9c132f1380d4",
   "metadata": {},
   "outputs": [],
   "source": [
    "import numpy as np\n",
    "import pandas as pd\n",
    "import torch\n",
    "import torch.nn as nn\n",
    "import torch.nn.functional as F\n",
    "import torch.optim as optim\n",
    "import torchvision\n",
    "from torchvision.transforms import v2\n",
    "import torchvision.models as models\n",
    "import timm\n",
    "from PIL import Image\n",
    "from torchvision.models import resnet18, ResNet18_Weights\n",
    "from torch.utils.data import Dataset, DataLoader\n",
    "from torch.optim.lr_scheduler import ReduceLROnPlateau\n",
    "\n",
    "import matplotlib.pyplot as plt\n",
    "%matplotlib inline"
   ]
  },
  {
   "cell_type": "markdown",
   "id": "097eee9f-671c-429c-8d61-734ba146a313",
   "metadata": {},
   "source": [
    "## Step 1: Data Preparation"
   ]
  },
  {
   "cell_type": "markdown",
   "id": "88e73a01-c673-4a9a-86f5-153ac11c55a6",
   "metadata": {},
   "source": [
    "1. Download dataseet from kaggle competition that contain images of dogs and cats.\n",
    "2. This code initializes the process of preparing an image dataset for training an AI model.\n",
    "3. The dataset, located in the \"data/train\" directory, is loaded using PyTorch's torchvision library\n",
    "4. Image transformations, including resizing, flipping, and rotation, are applied to augment the dataset and improve model robustness.\n",
    "6. The dataset is split into training (80%) and validation (20%) sets to facilitate effective model training and evaluation\n",
    "7. These meticulous preparations pave the way for building a powerful image classification model, offering business users the potential for accurate and insightful analyses based on visual data."
   ]
  },
  {
   "cell_type": "code",
   "execution_count": 3,
   "id": "14f732eb-db39-46dc-80ef-c104b9afb7a5",
   "metadata": {},
   "outputs": [],
   "source": [
    "transforms = v2.Compose([\n",
    "    v2.ToImage(),\n",
    "    v2.ToDtype(torch.uint8, scale=True),\n",
    "    v2.Resize(size=(224, 224), antialias=True),\n",
    "    v2.RandomHorizontalFlip(p=0.5),\n",
    "    v2.RandomRotation(15),\n",
    "    v2.ToDtype(torch.float32, scale=True),\n",
    "    v2.Normalize(mean=[0.485, 0.456, 0.406], std=[0.229, 0.224, 0.225]),\n",
    "])\n",
    "dataset = torchvision.datasets.ImageFolder(root=\"data/train\", transform=transforms)\n",
    "train_dataset, valid_dataset = torch.utils.data.random_split(dataset, [\n",
    "    int(len(dataset)*0.8),\n",
    "    len(dataset)-int(len(dataset)*0.8)\n",
    "])"
   ]
  },
  {
   "cell_type": "code",
   "execution_count": 4,
   "id": "732095c0-c10f-4109-9a19-5ee0079df948",
   "metadata": {},
   "outputs": [
    {
     "name": "stdout",
     "output_type": "stream",
     "text": [
      "{'cat': 0, 'dog': 1}\n",
      "['cat', 'dog']\n"
     ]
    }
   ],
   "source": [
    "print(dataset.class_to_idx)\n",
    "print(dataset.classes)"
   ]
  },
  {
   "cell_type": "markdown",
   "id": "4407c8e9-8554-4550-80c4-85aacb321bcf",
   "metadata": {},
   "source": [
    "## Step 2 : Design Model - Resnet18\n",
    "\n",
    "Using pretrained resnet18 model provided from pytorch, and customize the output layer with size 2 instead of 1000"
   ]
  },
  {
   "cell_type": "markdown",
   "id": "cc4ad016-956a-4936-9b67-0138dc63caa2",
   "metadata": {},
   "source": [
    "The model is based on ResNet18, a powerful pre-trained neural network for image classification.\n",
    "Customization involves adjusting the output layer to suit a binary classification task (distinguishing between two classes, e.g., cats and dogs).\n",
    "This modification allows the model to leverage the knowledge gained from a large dataset while tailoring it to specific business needs."
   ]
  },
  {
   "cell_type": "code",
   "execution_count": 5,
   "id": "64a83be0-053e-4f8d-b56e-1245cc66987f",
   "metadata": {},
   "outputs": [],
   "source": [
    "class Net(nn.Module):\n",
    "\n",
    "    def __init__(self):\n",
    "        super().__init__()\n",
    "        self.resnet = resnet18(weights=ResNet18_Weights.IMAGENET1K_V1, progress=True)\n",
    "        self.resnet.fc = nn.Linear(512, 2)\n",
    "\n",
    "    def forward(self, x):\n",
    "        return self.resnet(x)"
   ]
  },
  {
   "cell_type": "markdown",
   "id": "089a4393-edf8-4afe-9c78-bda8411183d2",
   "metadata": {},
   "source": [
    "## Step 3 : Model Training - ResNet\n",
    "- Training occurs over 10 epochs, where each epoch represents a full pass through the dataset.\n",
    "- Utilizes a batch size of 64 for efficiency.\n",
    "- Optimized using the Adam optimizer with a learning rate of (0.001). \n",
    "- The training process involves iterating through the training dataset, adjusting the model's parameters based on the error (loss), and validating the model's performance on a separate dataset*\n",
    "\n",
    "\n",
    "This implementation involves designing and training a ResNet18-based neural network for image classification, tailored to a binary task such as distinguishing between cats and dogs. Leveraging a pre-trained model ensures a strong foundation, while customizing the output layer optimizes it for specific business requirements. The training process spans 10 epochs, refining the model's accuracy and efficiency through iterative adjustments. Key metrics, including accuracy and loss, are tracked, allowing for performance insights and ensuring the preservation of the best-performing model. This tailored approach ensures that the model not only benefits from broad knowledge but also aligns closely with the nuances of the business problem at hand, potentially finding applications in various domains such as quality control or content categorization."
   ]
  },
  {
   "cell_type": "code",
   "execution_count": 6,
   "id": "5969feee-8d06-4328-b584-250e412970cf",
   "metadata": {},
   "outputs": [],
   "source": [
    "device = \"cuda\"\n",
    "n_epochs = 10\n",
    "batch_size = 64\n",
    "\n",
    "lr = 0.001"
   ]
  },
  {
   "cell_type": "code",
   "execution_count": 7,
   "id": "5635fb9f-eb18-4103-b743-fef25c1b0519",
   "metadata": {},
   "outputs": [],
   "source": [
    "train_loader = DataLoader(train_dataset, batch_size=batch_size, shuffle=True, num_workers=8)\n",
    "valid_loader = DataLoader(valid_dataset, batch_size=batch_size, num_workers=8)"
   ]
  },
  {
   "cell_type": "code",
   "execution_count": 8,
   "id": "6f29a840-5117-4916-b702-4f72c8db6f08",
   "metadata": {},
   "outputs": [],
   "source": [
    "model = Net()\n",
    "model = model.to(device)\n",
    "optimizer = optim.Adam(model.parameters(), lr=lr)\n",
    "criterion = nn.CrossEntropyLoss()"
   ]
  },
  {
   "cell_type": "code",
   "execution_count": 9,
   "id": "3d8e8c3f-9c7f-43e2-aa1d-d817eb0cacb4",
   "metadata": {},
   "outputs": [
    {
     "name": "stdout",
     "output_type": "stream",
     "text": [
      "Save the model checkpoint\n",
      "Epoch 0/10: Train accuray=0.938748, Train Loss=0.151108 Valid accuray=0.935522, Valid Loss=0.165872\n",
      "Save the model checkpoint\n",
      "Epoch 1/10: Train accuray=0.956070, Train Loss=0.106617 Valid accuray=0.944027, Valid Loss=0.136651\n",
      "Save the model checkpoint\n",
      "Epoch 2/10: Train accuray=0.963458, Train Loss=0.091406 Valid accuray=0.950554, Valid Loss=0.124657\n",
      "Save the model checkpoint\n",
      "Epoch 3/10: Train accuray=0.967153, Train Loss=0.083749 Valid accuray=0.968948, Valid Loss=0.084491\n",
      "Epoch 4/10: Train accuray=0.971645, Train Loss=0.069827 Valid accuray=0.954905, Valid Loss=0.119267\n",
      "Epoch 5/10: Train accuray=0.973343, Train Loss=0.065251 Valid accuray=0.965190, Valid Loss=0.106206\n",
      "Save the model checkpoint\n",
      "Epoch 6/10: Train accuray=0.974840, Train Loss=0.062708 Valid accuray=0.970332, Valid Loss=0.080083\n",
      "Epoch 7/10: Train accuray=0.980581, Train Loss=0.052401 Valid accuray=0.962223, Valid Loss=0.114092\n",
      "Epoch 8/10: Train accuray=0.975639, Train Loss=0.062047 Valid accuray=0.961234, Valid Loss=0.109650\n",
      "Save the model checkpoint\n",
      "Epoch 9/10: Train accuray=0.977236, Train Loss=0.057103 Valid accuray=0.974684, Valid Loss=0.071653\n"
     ]
    }
   ],
   "source": [
    "best_valid_loss = 10000\n",
    "\n",
    "for epoch in range(n_epochs):\n",
    "    train_accs = []\n",
    "    train_losses = []\n",
    "    valid_accs = []\n",
    "    valid_losses = []\n",
    "    \n",
    "    # Train loop\n",
    "    model.train()\n",
    "    for idx, (data, target) in enumerate(train_loader):\n",
    "        data = data.to(device)\n",
    "        target = target.to(device)\n",
    "\n",
    "        output = model(data)\n",
    "        loss = criterion(output, target)\n",
    "\n",
    "        optimizer.zero_grad()\n",
    "        loss.backward()\n",
    "        optimizer.step()\n",
    "\n",
    "        acc = (output.cpu().argmax(dim=1) == target.cpu()).sum().item() / len(target)\n",
    "        train_accs.append(acc)\n",
    "        train_losses.append(loss.item())\n",
    "\n",
    "    # Validation loop\n",
    "    model.eval()\n",
    "    for idx, (data, target) in enumerate(valid_loader):\n",
    "        data = data.to(device)\n",
    "        target = target.to(device)\n",
    "\n",
    "        with torch.no_grad():\n",
    "            output = model(data)\n",
    "            loss = criterion(output, target)\n",
    "            \n",
    "        acc = (output.cpu().argmax(dim=1) == target.cpu()).sum().item() / len(target)\n",
    "        valid_accs.append(acc)\n",
    "        valid_losses.append(loss.item())\n",
    "\n",
    "    if best_valid_loss > sum(valid_losses)/len(valid_accs):\n",
    "        best_valid_loss = sum(valid_losses)/len(valid_accs)\n",
    "        torch.save({'model_state_dict': model.state_dict() }, '/tmp/model.pt')\n",
    "        print(\"Save the model checkpoint\")\n",
    "        \n",
    "    # Logging\n",
    "    print((\n",
    "        f\"Epoch {epoch}/{n_epochs}: \"\n",
    "        f\"Train accuray={sum(train_accs)/len(train_accs):.6f}, Train Loss={sum(train_losses)/len(train_accs):.6f} \"\n",
    "        f\"Valid accuray={sum(valid_accs)/len(valid_accs):.6f}, Valid Loss={sum(valid_losses)/len(valid_accs):.6f}\"\n",
    "    ))"
   ]
  },
  {
   "cell_type": "markdown",
   "id": "9a40fb41-ded1-4c60-b1b1-fdeb45652802",
   "metadata": {},
   "source": [
    "## Step 4: Model inference on test dataset\n",
    "-  Model Loading: A trained neural network (model) is loaded for making predictions on new, unseen data.\n",
    "-  Data Transformation: Test images are transformed to ensure consistency with the training data, including resizing and normalization.\n",
    "-  Inference Process: The model processes each image from the test dataset individually, predicting the likelihood of belonging to the positive class(e.g., a specific category, object, or feature).\n",
    "-  Results Collection: The predicted probabilities are collected for each image, providing insights into the model's confidence in its predictions."
   ]
  },
  {
   "cell_type": "code",
   "execution_count": 10,
   "id": "9f563057-a5ea-4586-983b-14425a329f9a",
   "metadata": {},
   "outputs": [],
   "source": [
    "model = Net()\n",
    "\n",
    "checkpoint = torch.load('/tmp/model.pt')\n",
    "model.load_state_dict(checkpoint['model_state_dict'])\n",
    "\n",
    "model = model.to(device)"
   ]
  },
  {
   "cell_type": "code",
   "execution_count": 11,
   "id": "57009aa0-4a75-4b5e-a1c2-4e493762a436",
   "metadata": {},
   "outputs": [],
   "source": [
    "transforms = v2.Compose([\n",
    "    v2.ToImage(),\n",
    "    v2.ToDtype(torch.uint8, scale=True),\n",
    "    v2.Resize(size=(224, 224), antialias=True),\n",
    "    v2.ToDtype(torch.float32, scale=True),\n",
    "    v2.Normalize(mean=[0.485, 0.456, 0.406], std=[0.229, 0.224, 0.225]),\n",
    "])"
   ]
  },
  {
   "cell_type": "code",
   "execution_count": 12,
   "id": "70780649-ec51-4625-b904-219aabc2021b",
   "metadata": {},
   "outputs": [],
   "source": [
    "import os\n",
    "import os.path as osp\n",
    "from PIL import Image\n",
    "\n",
    "TEST_DIR = \"data/test/unknown/\"\n",
    "paths = os.listdir(TEST_DIR)\n",
    "paths = sorted(paths, key=lambda name: int(name.split('/')[-1].split('.')[0]))\n",
    "\n",
    "answers = []\n",
    "for fname in paths:\n",
    "    img = Image.open(osp.join(TEST_DIR, fname))\n",
    "    data = transforms(img)\n",
    "    data = data.unsqueeze(0)\n",
    "    data = data.to(device)\n",
    "\n",
    "    output = model(data)\n",
    "    prob = F.softmax(output, dim=1)[:, 1]\n",
    "    answers.append(prob.item())"
   ]
  },
  {
   "cell_type": "code",
   "execution_count": 13,
   "id": "6ffc3295-01e4-4fa4-825a-199155079b6d",
   "metadata": {},
   "outputs": [],
   "source": [
    "df = pd.DataFrame({\n",
    "    'id': [ i+1 for i in range(len(answers)) ],\n",
    "    'label': answers\n",
    "})\n",
    "df.to_csv('test.csv', index=None)"
   ]
  },
  {
   "attachments": {
    "b0647d9a-7e91-4d34-9cf4-0e6e6fcb4076.png": {
     "image/png": "[encoded data removed]"
    }
   },
   "cell_type": "markdown",
   "id": "379a2578-8b33-433d-8a9d-52c3601eb080",
   "metadata": {},
   "source": [
    "![image.png](attachment:b0647d9a-7e91-4d34-9cf4-0e6e6fcb4076.png)"
   ]
  },
  {
   "cell_type": "markdown",
   "id": "c72b445c-7197-44c6-99ea-9e577d062b7e",
   "metadata": {},
   "source": [
    "## Below section I implement similar procee using different models and hyper parameter and evaluate the performance on kaggle"
   ]
  },
  {
   "cell_type": "markdown",
   "id": "76624267-b499-436c-8e5b-6024ebe1be33",
   "metadata": {},
   "source": [
    "### Xception - Different transform agument, batch normalization, early stopping"
   ]
  },
  {
   "cell_type": "code",
   "execution_count": 4,
   "id": "99f4e879-8a3a-43a8-9403-37e967ac08ec",
   "metadata": {},
   "outputs": [],
   "source": [
    "input_size = 224\n",
    "mean = [0.485, 0.456, 0.406]\n",
    "std = [0.229, 0.224, 0.225]\n",
    "transforms_xception = v2.Compose([\n",
    "        v2.RandomResizedCrop(input_size, scale=(0.5, 1.0)),\n",
    "        v2.RandomHorizontalFlip(),\n",
    "        v2.ToTensor(),\n",
    "        v2.Normalize(mean, std)\n",
    "])"
   ]
  },
  {
   "cell_type": "code",
   "execution_count": 5,
   "id": "88e6bfb8-6a65-4fa1-9fa3-9666b3228d94",
   "metadata": {},
   "outputs": [],
   "source": [
    "dataset = torchvision.datasets.ImageFolder(root=\"data/train\", transform=transforms_xception)\n",
    "train_dataset_xception, valid_dataset_xception = torch.utils.data.random_split(dataset, [\n",
    "    int(len(dataset)*0.8),\n",
    "    len(dataset)-int(len(dataset)*0.8)\n",
    "])"
   ]
  },
  {
   "cell_type": "code",
   "execution_count": 6,
   "id": "2cb76817-b0ab-41e8-b08b-b8eb7637ac80",
   "metadata": {},
   "outputs": [],
   "source": [
    "class XceptionNet(nn.Module):\n",
    "    def __init__(self):\n",
    "        super().__init__()\n",
    "        self.xception = models.xception(pretrained=True)\n",
    "        for param in self.xception.parameters():\n",
    "            param.requires_grad = False\n",
    "        self.xception.fc = nn.Linear(2048, 2)\n",
    "        self.batch_norm = nn.BatchNorm1d(2)\n",
    "\n",
    "    def forward(self, x):\n",
    "        x = self.xception(x)\n",
    "        x = self.batch_norm(x)\n",
    "        return x"
   ]
  },
  {
   "cell_type": "code",
   "execution_count": 7,
   "id": "1190680f-de11-454a-8209-d04509e8651f",
   "metadata": {},
   "outputs": [],
   "source": [
    "device = \"cuda\"\n",
    "n_epochs = 5\n",
    "batch_size = 64\n",
    "lr = 0.001\n",
    "train_loader_xception = DataLoader(train_dataset_xception, batch_size=batch_size, shuffle=True, num_workers=8)\n",
    "valid_loader_xception = DataLoader(valid_dataset_xception, batch_size=batch_size, num_workers=8)"
   ]
  },
  {
   "cell_type": "code",
   "execution_count": 8,
   "id": "0147246b-838a-446b-a176-f10623ad67af",
   "metadata": {},
   "outputs": [
    {
     "name": "stderr",
     "output_type": "stream",
     "text": [
      "/home/johnnylord/.pyenv/versions/pytorch/lib/python3.8/site-packages/timm/models/_factory.py:117: UserWarning: Mapping deprecated model name xception to current legacy_xception.\n",
      "  model = create_fn(\n"
     ]
    }
   ],
   "source": [
    "model_xception = timm.create_model('xception', pretrained=True)\n",
    "model_xception = model_xception.to(device)\n",
    "params_to_update = model_xception.parameters()\n",
    "optimizer_xception = optim.SGD(params_to_update, lr=0.001, momentum=0.9)\n",
    "scheduler = ReduceLROnPlateau(optimizer_xception, mode='min', factor=0.1, patience=3, verbose=True)\n",
    "criterion_xception = nn.CrossEntropyLoss()"
   ]
  },
  {
   "cell_type": "code",
   "execution_count": 9,
   "id": "1aaf183a-188a-44a0-af6f-d02f25703f04",
   "metadata": {},
   "outputs": [
    {
     "name": "stdout",
     "output_type": "stream",
     "text": [
      "Epoch 1/5: Train accuracy=0.855232, Train Loss=0.943132 Valid accuracy=0.977057, Valid Loss=0.082771\n",
      "Save the Xception model checkpoint\n",
      "Epoch 2/5: Train accuracy=0.976238, Train Loss=0.073013 Valid accuracy=0.981804, Valid Loss=0.053266\n",
      "Save the Xception model checkpoint\n",
      "Epoch 3/5: Train accuracy=0.981280, Train Loss=0.054528 Valid accuracy=0.985562, Valid Loss=0.042203\n",
      "Save the Xception model checkpoint\n",
      "Epoch 4/5: Train accuracy=0.984325, Train Loss=0.045351 Valid accuracy=0.987737, Valid Loss=0.036860\n",
      "Save the Xception model checkpoint\n",
      "Epoch 5/5: Train accuracy=0.985573, Train Loss=0.039281 Valid accuracy=0.986353, Valid Loss=0.037098\n"
     ]
    }
   ],
   "source": [
    "# Early Stopping parameters\n",
    "patience = 5\n",
    "early_stop_counter = 0\n",
    "best_valid_loss_xception = float('inf')\n",
    "\n",
    "for epoch in range(n_epochs):\n",
    "    train_accs_xception = []\n",
    "    train_losses_xception = []\n",
    "    valid_accs_xception = []\n",
    "    valid_losses_xception = []\n",
    "\n",
    "    # Train loop\n",
    "    model_xception.train()\n",
    "    for idx, (data, target) in enumerate(train_loader_xception):\n",
    "        data = data.to(device)\n",
    "        target = target.to(device)\n",
    "\n",
    "        output = model_xception(data)\n",
    "        loss = criterion_xception(output, target)\n",
    "\n",
    "        optimizer_xception.zero_grad()\n",
    "        loss.backward()\n",
    "        optimizer_xception.step()\n",
    "\n",
    "        acc = (output.cpu().argmax(dim=1) == target.cpu()).sum().item() / len(target)\n",
    "        train_accs_xception.append(acc)\n",
    "        train_losses_xception.append(loss.item())\n",
    "\n",
    "    # Validation loop\n",
    "    model_xception.eval()\n",
    "    for idx, (data, target) in enumerate(valid_loader_xception):\n",
    "        data = data.to(device)\n",
    "        target = target.to(device)\n",
    "\n",
    "        with torch.no_grad():\n",
    "            output = model_xception(data)\n",
    "            loss = criterion_xception(output, target)\n",
    "\n",
    "        acc = (output.cpu().argmax(dim=1) == target.cpu()).sum().item() / len(target)\n",
    "        valid_accs_xception.append(acc)\n",
    "        valid_losses_xception.append(loss.item())\n",
    "\n",
    "    # Calculate average losses and accuracies\n",
    "    avg_train_loss = sum(train_losses_xception) / len(train_accs_xception)\n",
    "    avg_valid_loss = sum(valid_losses_xception) / len(valid_accs_xception)\n",
    "    avg_train_acc = sum(train_accs_xception) / len(train_accs_xception)\n",
    "    avg_valid_acc = sum(valid_accs_xception) / len(valid_accs_xception)\n",
    "\n",
    "    print((\n",
    "        f\"Epoch {epoch+1}/{n_epochs}: \"\n",
    "        f\"Train accuracy={avg_train_acc:.6f}, Train Loss={avg_train_loss:.6f} \"\n",
    "        f\"Valid accuracy={avg_valid_acc:.6f}, Valid Loss={avg_valid_loss:.6f}\"\n",
    "    ))\n",
    "\n",
    "    # Check for early stopping\n",
    "    if avg_valid_loss < best_valid_loss_xception:\n",
    "        best_valid_loss_xception = avg_valid_loss\n",
    "        early_stop_counter = 0\n",
    "        torch.save({'model_state_dict': model_xception.state_dict()}, '/tmp/model_xception.pt')\n",
    "        print(\"Save the Xception model checkpoint\")\n",
    "    else:\n",
    "        early_stop_counter += 1\n",
    "        if early_stop_counter >= patience:\n",
    "            print(f\"Early stopping after {patience} epochs of no improvement.\")\n",
    "            break\n",
    "\n",
    "    # Learning rate scheduler step\n",
    "    scheduler.step(avg_valid_loss)"
   ]
  },
  {
   "cell_type": "code",
   "execution_count": 10,
   "id": "b2312e57-4e78-4c8f-96e0-d69639c2fd7d",
   "metadata": {},
   "outputs": [],
   "source": [
    "model_xception = timm.create_model('xception', pretrained=True)\n",
    "checkpoint_xception = torch.load('/tmp/model_xception.pt')\n",
    "model_xception.load_state_dict(checkpoint_xception['model_state_dict'])\n",
    "model_xception = model_xception.to(device)\n",
    "\n",
    "transforms_xception_test = v2.Compose([\n",
    "        v2.RandomResizedCrop(input_size, scale=(0.5, 1.0)),\n",
    "        v2.RandomHorizontalFlip(),\n",
    "        v2.ToTensor(),\n",
    "        v2.Normalize(mean, std)\n",
    "])\n"
   ]
  },
  {
   "cell_type": "code",
   "execution_count": 11,
   "id": "6dae9402-a4f7-405a-8c6c-18e5b80bb0a8",
   "metadata": {},
   "outputs": [],
   "source": [
    "import os\n",
    "TEST_DIR_XCEPTION = \"data/test/unknown/\"\n",
    "paths_xception = os.listdir(TEST_DIR_XCEPTION)\n",
    "paths_xception = sorted(paths_xception, key=lambda name: int(name.split('/')[-1].split('.')[0]))\n",
    "\n",
    "answers_xception = []\n",
    "for fname_xception in paths_xception:\n",
    "    img_xception = Image.open(os.path.join(TEST_DIR_XCEPTION, fname_xception))\n",
    "    data_xception = transforms_xception_test(img_xception)\n",
    "    data_xception = data_xception.unsqueeze(0)\n",
    "    data_xception = data_xception.to(device)\n",
    "\n",
    "    output_xception = model_xception(data_xception)\n",
    "    prob_xception = F.softmax(output_xception, dim=1)[:, 1]\n",
    "    answers_xception.append(prob_xception.item())"
   ]
  },
  {
   "cell_type": "code",
   "execution_count": 12,
   "id": "9ee6754e-3f83-4eb2-89a5-f38acc1a5399",
   "metadata": {},
   "outputs": [],
   "source": [
    "df_xception = pd.DataFrame({\n",
    "    'id': [i+1 for i in range(len(answers_xception))],\n",
    "    'label': answers_xception\n",
    "})\n",
    "df_xception.to_csv('test_batch_xception.csv', index=None)"
   ]
  },
  {
   "attachments": {
    "91f55c03-de50-4ea2-8927-ef2133736475.png": {
     "image/png": "[encoded data removed]"
    }
   },
   "cell_type": "markdown",
   "id": "90806fb8-e32a-4f0c-9199-7aa6f6b81d5a",
   "metadata": {},
   "source": [
    "![image.png](attachment:91f55c03-de50-4ea2-8927-ef2133736475.png)"
   ]
  },
  {
   "cell_type": "markdown",
   "id": "8ebd8134-9de7-458d-8ee1-0ef3f55b5c5a",
   "metadata": {},
   "source": [
    "### VGG 16 - First Attempt"
   ]
  },
  {
   "cell_type": "code",
   "execution_count": 2,
   "id": "91319544-2189-4849-922a-1f4addfac501",
   "metadata": {},
   "outputs": [
    {
     "name": "stderr",
     "output_type": "stream",
     "text": [
      "/home/johnnylord/.pyenv/versions/pytorch/lib/python3.8/site-packages/torchvision/transforms/v2/_deprecated.py:43: UserWarning: The transform `ToTensor()` is deprecated and will be removed in a future release. Instead, please use `v2.Compose([v2.ToImage(), v2.ToDtype(torch.float32, scale=True)])`.\n",
      "  warnings.warn(\n"
     ]
    }
   ],
   "source": [
    "transforms_vgg = v2.Compose([\n",
    "    v2.ToPILImage(),\n",
    "    v2.Resize(size=(224, 224), antialias=True),\n",
    "    v2.ToTensor(),\n",
    "    v2.Normalize(mean=[0.485, 0.456, 0.406], std=[0.229, 0.224, 0.225]),\n",
    "])"
   ]
  },
  {
   "cell_type": "code",
   "execution_count": 13,
   "id": "1c733a1a-813e-4ad9-ab2c-6f335470437e",
   "metadata": {},
   "outputs": [
    {
     "name": "stdout",
     "output_type": "stream",
     "text": [
      "{'cat': 0, 'dog': 1}\n",
      "['cat', 'dog']\n",
      "20000\n",
      "5000\n"
     ]
    }
   ],
   "source": [
    "dataset_vgg = torchvision.datasets.ImageFolder(root=\"data/train\", transform=transforms_vgg)\n",
    "train_dataset_vgg, valid_dataset_vgg = torch.utils.data.random_split(dataset_vgg, [\n",
    "    int(len(dataset_vgg) * 0.8),\n",
    "    len(dataset_vgg) - int(len(dataset_vgg) * 0.8)\n",
    "])\n",
    "\n",
    "print(dataset_vgg.class_to_idx)\n",
    "print(dataset_vgg.classes)\n",
    "print(len(train_dataset_vgg))\n",
    "print(len(valid_dataset_vgg))"
   ]
  },
  {
   "cell_type": "code",
   "execution_count": 4,
   "id": "1166c0f2-cdae-4525-9521-bd9bd6a8e787",
   "metadata": {},
   "outputs": [],
   "source": [
    "class VGGNet(nn.Module):\n",
    "    def __init__(self):\n",
    "        super().__init__()\n",
    "        self.vgg = models.vgg16(pretrained=True)\n",
    "        self.vgg.classifier[6] = nn.Linear(4096, 2)\n",
    "\n",
    "    def forward(self, x):\n",
    "        return self.vgg(x)"
   ]
  },
  {
   "cell_type": "code",
   "execution_count": 5,
   "id": "17ecee7c-cec2-45c2-8867-f95cf472c2b7",
   "metadata": {},
   "outputs": [
    {
     "name": "stderr",
     "output_type": "stream",
     "text": [
      "/home/johnnylord/.pyenv/versions/pytorch/lib/python3.8/site-packages/torchvision/models/_utils.py:208: UserWarning: The parameter 'pretrained' is deprecated since 0.13 and may be removed in the future, please use 'weights' instead.\n",
      "  warnings.warn(\n",
      "/home/johnnylord/.pyenv/versions/pytorch/lib/python3.8/site-packages/torchvision/models/_utils.py:223: UserWarning: Arguments other than a weight enum or `None` for 'weights' are deprecated since 0.13 and may be removed in the future. The current behavior is equivalent to passing `weights=VGG16_Weights.IMAGENET1K_V1`. You can also use `weights=VGG16_Weights.DEFAULT` to get the most up-to-date weights.\n",
      "  warnings.warn(msg)\n"
     ]
    }
   ],
   "source": [
    "device = \"cuda\"\n",
    "n_epochs = 10\n",
    "batch_size = 64\n",
    "lr = 0.001\n",
    "train_loader_vgg = DataLoader(train_dataset_vgg, batch_size=batch_size, shuffle=True, num_workers=8)\n",
    "valid_loader_vgg = DataLoader(valid_dataset_vgg, batch_size=batch_size, num_workers=8)\n",
    "model_vgg = VGGNet()\n",
    "model_vgg = model_vgg.to(device)\n",
    "optimizer_vgg = optim.Adam(model_vgg.parameters(), lr=lr)\n",
    "criterion_vgg = nn.CrossEntropyLoss()\n",
    "best_valid_loss_vgg = 10000"
   ]
  },
  {
   "cell_type": "code",
   "execution_count": 7,
   "id": "fa317816-b60b-4c23-9b7d-5ab483d67c07",
   "metadata": {},
   "outputs": [],
   "source": [
    "# Model on test dataset\n",
    "model_vgg = VGGNet()\n",
    "checkpoint_vgg = torch.load('/tmp/model_vgg.pt')\n",
    "model_vgg.load_state_dict(checkpoint_vgg['model_state_dict'])\n",
    "model_vgg = model_vgg.to(device)\n",
    "\n",
    "transforms_vgg_test = v2.Compose([\n",
    "    v2.ToPILImage(),\n",
    "    v2.Resize(size=(224, 224), antialias=True),\n",
    "    v2.ToTensor(),\n",
    "    v2.Normalize(mean=[0.485, 0.456, 0.406], std=[0.229, 0.224, 0.225]),\n",
    "])"
   ]
  },
  {
   "cell_type": "code",
   "execution_count": 6,
   "id": "f784e16e-c3ee-433a-a527-8ffe691f67d9",
   "metadata": {},
   "outputs": [
    {
     "name": "stdout",
     "output_type": "stream",
     "text": [
      "Save the VGG model checkpoint\n",
      "Epoch 0/10: Train accuracy=0.562300, Train Loss=0.725352 Valid accuracy=0.496242, Valid Loss=0.694544\n",
      "Save the VGG model checkpoint\n",
      "Epoch 1/10: Train accuracy=0.518670, Train Loss=0.693161 Valid accuracy=0.571005, Valid Loss=0.676225\n",
      "Epoch 2/10: Train accuracy=0.513279, Train Loss=0.722600 Valid accuracy=0.496242, Valid Loss=0.694417\n",
      "Epoch 3/10: Train accuracy=0.498153, Train Loss=0.693943 Valid accuracy=0.496242, Valid Loss=0.693248\n",
      "Epoch 4/10: Train accuracy=0.498003, Train Loss=0.694892 Valid accuracy=0.496242, Valid Loss=0.700666\n",
      "Epoch 5/10: Train accuracy=0.491663, Train Loss=0.694706 Valid accuracy=0.496242, Valid Loss=0.693238\n",
      "Epoch 6/10: Train accuracy=0.494958, Train Loss=0.694055 Valid accuracy=0.496242, Valid Loss=0.693199\n",
      "Epoch 7/10: Train accuracy=0.495857, Train Loss=0.694281 Valid accuracy=0.503758, Valid Loss=0.693704\n",
      "Epoch 8/10: Train accuracy=0.500399, Train Loss=0.693856 Valid accuracy=0.496242, Valid Loss=0.693188\n",
      "Epoch 9/10: Train accuracy=0.497903, Train Loss=0.694163 Valid accuracy=0.503758, Valid Loss=0.693144\n"
     ]
    }
   ],
   "source": [
    "for epoch in range(n_epochs):\n",
    "    train_accs_vgg = []\n",
    "    train_losses_vgg = []\n",
    "    valid_accs_vgg = []\n",
    "    valid_losses_vgg = []\n",
    "\n",
    "    # Train loop\n",
    "    model_vgg.train()\n",
    "    for idx, (data, target) in enumerate(train_loader_vgg):\n",
    "        data = data.to(device)\n",
    "        target = target.to(device)\n",
    "\n",
    "        output = model_vgg(data)\n",
    "        loss = criterion_vgg(output, target)\n",
    "\n",
    "        optimizer_vgg.zero_grad()\n",
    "        loss.backward()\n",
    "        optimizer_vgg.step()\n",
    "\n",
    "        acc = (output.cpu().argmax(dim=1) == target.cpu()).sum().item() / len(target)\n",
    "        train_accs_vgg.append(acc)\n",
    "        train_losses_vgg.append(loss.item())\n",
    "\n",
    "    # Validation loop\n",
    "    model_vgg.eval()\n",
    "    for idx, (data, target) in enumerate(valid_loader_vgg):\n",
    "        data = data.to(device)\n",
    "        target = target.to(device)\n",
    "\n",
    "        with torch.no_grad():\n",
    "            output = model_vgg(data)\n",
    "            loss = criterion_vgg(output, target)\n",
    "\n",
    "        acc = (output.cpu().argmax(dim=1) == target.cpu()).sum().item() / len(target)\n",
    "        valid_accs_vgg.append(acc)\n",
    "        valid_losses_vgg.append(loss.item())\n",
    "\n",
    "    if best_valid_loss_vgg > sum(valid_losses_vgg) / len(valid_accs_vgg):\n",
    "        best_valid_loss_vgg = sum(valid_losses_vgg) / len(valid_accs_vgg)\n",
    "        torch.save({'model_state_dict': model_vgg.state_dict()}, '/tmp/model_vgg.pt')\n",
    "        print(\"Save the VGG model checkpoint\")\n",
    "\n",
    "    # Logging\n",
    "    print((\n",
    "        f\"Epoch {epoch}/{n_epochs}: \"\n",
    "        f\"Train accuracy={sum(train_accs_vgg) / len(train_accs_vgg):.6f}, Train Loss={sum(train_losses_vgg) / len(train_accs_vgg):.6f} \"\n",
    "        f\"Valid accuracy={sum(valid_accs_vgg) / len(valid_accs_vgg):.6f}, Valid Loss={sum(valid_losses_vgg) / len(valid_accs_vgg):.6f}\"\n",
    "    ))"
   ]
  },
  {
   "cell_type": "code",
   "execution_count": 9,
   "id": "e436a775-7769-4cad-8070-705a792993b1",
   "metadata": {},
   "outputs": [],
   "source": [
    "import os\n",
    "TEST_DIR_VGG = \"data/test/unknown/\"\n",
    "paths_vgg = os.listdir(TEST_DIR_VGG)\n",
    "paths_vgg = sorted(paths_vgg, key=lambda name: int(name.split('/')[-1].split('.')[0]))\n",
    "\n",
    "answers_vgg = []\n",
    "for fname_vgg in paths_vgg:\n",
    "    img_vgg = Image.open(os.path.join(TEST_DIR_VGG, fname_vgg))\n",
    "    data_vgg = transforms_vgg_test(img_vgg)\n",
    "    data_vgg = data_vgg.unsqueeze(0)\n",
    "    data_vgg = data_vgg.to(device)\n",
    "\n",
    "    output_vgg = model_vgg(data_vgg)\n",
    "    prob_vgg = F.softmax(output_vgg, dim=1)[:, 1]\n",
    "    answers_vgg.append(prob_vgg.item())"
   ]
  },
  {
   "cell_type": "code",
   "execution_count": 10,
   "id": "20cc438d-91be-432b-b43b-66b9147325b5",
   "metadata": {},
   "outputs": [],
   "source": [
    "df_vgg = pd.DataFrame({\n",
    "    'id': [i + 1 for i in range(flen(answers_vgg))],\n",
    "    'label': answers_vgg\n",
    "})\n",
    "df_vgg.to_csv('test_batch64_vgg.csv', index=None)"
   ]
  },
  {
   "attachments": {
    "92598087-2524-4d40-975d-53d9641b3583.png": {
     "image/png": "[encoded data removed]"
    }
   },
   "cell_type": "markdown",
   "id": "0a421284-035f-4028-9ce3-2d96e870057e",
   "metadata": {},
   "source": [
    "![image.png](attachment:92598087-2524-4d40-975d-53d9641b3583.png)"
   ]
  },
  {
   "cell_type": "markdown",
   "id": "25037854-8665-43f0-92ff-5a2da3ae52c1",
   "metadata": {},
   "source": [
    "### Vgg16 - Second Attempt\n",
    "Try out different data transformation and optimizer (use optim.SGD) and batch_size = 32"
   ]
  },
  {
   "cell_type": "code",
   "execution_count": 10,
   "id": "447b3dd3-c4fb-4b0d-9385-4b2ebf95fd17",
   "metadata": {},
   "outputs": [],
   "source": [
    "input_size = 224\n",
    "mean = [0.485, 0.456, 0.406]\n",
    "std = [0.229, 0.224, 0.225]\n",
    "transforms_vgg = v2.Compose([\n",
    "        v2.RandomResizedCrop(input_size, scale=(0.5, 1.0)),\n",
    "        v2.RandomHorizontalFlip(),\n",
    "        v2.ToTensor(),\n",
    "        v2.Normalize(mean, std)\n",
    "])"
   ]
  },
  {
   "cell_type": "code",
   "execution_count": 11,
   "id": "439c9751-16d6-4836-a105-6ffec7bb8669",
   "metadata": {},
   "outputs": [
    {
     "name": "stdout",
     "output_type": "stream",
     "text": [
      "{'cat': 0, 'dog': 1}\n",
      "['cat', 'dog']\n"
     ]
    }
   ],
   "source": [
    "dataset_vgg = torchvision.datasets.ImageFolder(root=\"data/train\", transform=transforms_vgg)\n",
    "train_dataset_vgg, valid_dataset_vgg = torch.utils.data.random_split(dataset_vgg, [\n",
    "    int(len(dataset_vgg) * 0.8),\n",
    "    len(dataset_vgg) - int(len(dataset_vgg) * 0.8)\n",
    "])\n",
    "\n",
    "print(dataset_vgg.class_to_idx)\n",
    "print(dataset_vgg.classes)"
   ]
  },
  {
   "cell_type": "code",
   "execution_count": 21,
   "id": "493f1dd7-6972-42dd-aea1-c28f755688aa",
   "metadata": {},
   "outputs": [],
   "source": [
    "train_loader = torch.utils.data.DataLoader(train_dataset_vgg, batch_size=batch_size, shuffle=True)\n",
    "valid_loader = torch.utils.data.DataLoader(valid_dataset_vgg, batch_size=batch_size, shuffle=False)\n",
    "dataloaders = {'train': train_loader, 'val': valid_loader}"
   ]
  },
  {
   "cell_type": "code",
   "execution_count": 15,
   "id": "eea42276-7044-4bd7-9ecf-804d809c81ae",
   "metadata": {},
   "outputs": [
    {
     "name": "stderr",
     "output_type": "stream",
     "text": [
      "/home/johnnylord/.pyenv/versions/pytorch/lib/python3.8/site-packages/torchvision/models/_utils.py:208: UserWarning: The parameter 'pretrained' is deprecated since 0.13 and may be removed in the future, please use 'weights' instead.\n",
      "  warnings.warn(\n",
      "/home/johnnylord/.pyenv/versions/pytorch/lib/python3.8/site-packages/torchvision/models/_utils.py:223: UserWarning: Arguments other than a weight enum or `None` for 'weights' are deprecated since 0.13 and may be removed in the future. The current behavior is equivalent to passing `weights=VGG16_Weights.IMAGENET1K_V1`. You can also use `weights=VGG16_Weights.DEFAULT` to get the most up-to-date weights.\n",
      "  warnings.warn(msg)\n"
     ]
    }
   ],
   "source": [
    "batch_size =32\n",
    "num_epochs =5\n",
    "feature_extract = True\n",
    "num_classes = 2\n",
    "model_ft = models.vgg16(pretrained=True)\n",
    "model_ft.classifier[6] = nn.Linear(4096, num_classes)"
   ]
  },
  {
   "cell_type": "code",
   "execution_count": 16,
   "id": "4e4b19bd-0139-42ff-b1f5-3bab5ccd31c2",
   "metadata": {},
   "outputs": [],
   "source": [
    "model_ft = model_ft.to(device)"
   ]
  },
  {
   "cell_type": "code",
   "execution_count": 20,
   "id": "468d8139-31a0-4a7f-9872-3e40e2689c2c",
   "metadata": {},
   "outputs": [],
   "source": [
    "params_to_update = model_ft.parameters()\n",
    "# Observe that all parameters are being optimized\n",
    "optimizer_ft = optim.SGD(params_to_update, lr=0.001, momentum=0.9)"
   ]
  },
  {
   "cell_type": "markdown",
   "id": "5c0a930d-5103-406e-8210-b89d98be1604",
   "metadata": {},
   "source": [
    "- This train_model function comes from https://pytorch.org/tutorials/intermediate/torchvision_tutorial.html"
   ]
  },
  {
   "cell_type": "code",
   "execution_count": 28,
   "id": "edb40c47-55e5-44c9-9e0f-97e09ab3b909",
   "metadata": {},
   "outputs": [],
   "source": [
    "import copy\n",
    "from tqdm.notebook import tqdm\n",
    "def train_model(model, dataloaders, criterion, optimizer, num_epochs=25):\n",
    "\n",
    "    history = {'accuracy': [],\n",
    "               'val_accuracy': [],\n",
    "               'loss': [],\n",
    "               'val_loss': []}\n",
    "\n",
    "    best_model_wts = copy.deepcopy(model.state_dict())\n",
    "    best_acc = 0.0\n",
    "\n",
    "    for epoch in range(num_epochs):\n",
    "        print('Epoch {}/{}'.format(epoch, num_epochs - 1))\n",
    "        print('-' * 10)\n",
    "\n",
    "        # Each epoch has a training and validation phase\n",
    "        for phase in ['train', 'val']:\n",
    "            if phase == 'train':\n",
    "                model.train()  # Set model to training mode\n",
    "            else:\n",
    "                model.eval()   # Set model to evaluate mode\n",
    "\n",
    "            running_loss = 0.0\n",
    "            running_corrects = 0\n",
    "\n",
    "            # Iterate over data.\n",
    "            for inputs, labels in tqdm(dataloaders[phase]):\n",
    "                inputs = inputs.to(device)\n",
    "                labels = labels.to(device)\n",
    "\n",
    "                # zero the parameter gradients\n",
    "                optimizer.zero_grad()\n",
    "\n",
    "                # forward\n",
    "                # track history if only in train\n",
    "                with torch.set_grad_enabled(phase == 'train'):\n",
    "                    outputs = model(inputs)\n",
    "                    loss = criterion(outputs, labels)\n",
    "\n",
    "                    _, preds = torch.max(outputs, 1)\n",
    "\n",
    "                    # backward + optimize only if in training phase\n",
    "                    if phase == 'train':\n",
    "                        loss.backward()\n",
    "                        optimizer.step()\n",
    "\n",
    "                # statistics\n",
    "                running_loss += loss.item() * inputs.size(0)\n",
    "                running_corrects += torch.sum(preds == labels.data)\n",
    "\n",
    "            epoch_loss = running_loss / len(dataloaders[phase].dataset)\n",
    "            epoch_acc = running_corrects.double() / len(dataloaders[phase].dataset)\n",
    "\n",
    "            print('{} Loss: {:.4f} Acc: {:.4f}'.format(phase, epoch_loss, epoch_acc))\n",
    "\n",
    "            # deep copy the model\n",
    "            if phase == 'val' and epoch_acc > best_acc:\n",
    "                best_acc = epoch_acc\n",
    "                best_model_wts = copy.deepcopy(model.state_dict())\n",
    "\n",
    "            if phase == 'train':\n",
    "                history['accuracy'].append(epoch_acc.item())\n",
    "                history['loss'].append(epoch_loss)\n",
    "            else:\n",
    "                history['val_accuracy'].append(epoch_acc.item())\n",
    "                history['val_loss'].append(epoch_loss) \n",
    "\n",
    "        print()\n",
    "\n",
    "    print('Best val Acc: {:4f}'.format(best_acc))\n",
    "\n",
    "    # load best model weights\n",
    "    model.load_state_dict(best_model_wts)\n",
    "    return model, history"
   ]
  },
  {
   "cell_type": "code",
   "execution_count": 29,
   "id": "fb359412-6bd4-4985-9ba5-4ecbfb9e4ca7",
   "metadata": {},
   "outputs": [
    {
     "name": "stdout",
     "output_type": "stream",
     "text": [
      "Epoch 0/9\n",
      "----------\n"
     ]
    },
    {
     "data": {
      "application/vnd.jupyter.widget-view+json": {
       "model_id": "f65b18e254f34d60bd2b5818204fb20c",
       "version_major": 2,
       "version_minor": 0
      },
      "text/plain": [
       "  0%|          | 0/625 [00:00<?, ?it/s]"
      ]
     },
     "metadata": {},
     "output_type": "display_data"
    },
    {
     "name": "stdout",
     "output_type": "stream",
     "text": [
      "train Loss: 0.0498 Acc: 0.9811\n"
     ]
    },
    {
     "data": {
      "application/vnd.jupyter.widget-view+json": {
       "model_id": "26515c8f105a45dd9faa973e81d9880c",
       "version_major": 2,
       "version_minor": 0
      },
      "text/plain": [
       "  0%|          | 0/157 [00:00<?, ?it/s]"
      ]
     },
     "metadata": {},
     "output_type": "display_data"
    },
    {
     "name": "stdout",
     "output_type": "stream",
     "text": [
      "val Loss: 0.0337 Acc: 0.9866\n",
      "\n",
      "Epoch 1/9\n",
      "----------\n"
     ]
    },
    {
     "data": {
      "application/vnd.jupyter.widget-view+json": {
       "model_id": "4ef809d18c264aeb97ae0c5c375442bf",
       "version_major": 2,
       "version_minor": 0
      },
      "text/plain": [
       "  0%|          | 0/625 [00:00<?, ?it/s]"
      ]
     },
     "metadata": {},
     "output_type": "display_data"
    },
    {
     "name": "stdout",
     "output_type": "stream",
     "text": [
      "train Loss: 0.0294 Acc: 0.9889\n"
     ]
    },
    {
     "data": {
      "application/vnd.jupyter.widget-view+json": {
       "model_id": "a2c86403bc074602908e3097d3153943",
       "version_major": 2,
       "version_minor": 0
      },
      "text/plain": [
       "  0%|          | 0/157 [00:00<?, ?it/s]"
      ]
     },
     "metadata": {},
     "output_type": "display_data"
    },
    {
     "name": "stdout",
     "output_type": "stream",
     "text": [
      "val Loss: 0.0329 Acc: 0.9872\n",
      "\n",
      "Epoch 2/9\n",
      "----------\n"
     ]
    },
    {
     "data": {
      "application/vnd.jupyter.widget-view+json": {
       "model_id": "ce9afab352ca4fbaa19c116670945deb",
       "version_major": 2,
       "version_minor": 0
      },
      "text/plain": [
       "  0%|          | 0/625 [00:00<?, ?it/s]"
      ]
     },
     "metadata": {},
     "output_type": "display_data"
    },
    {
     "name": "stdout",
     "output_type": "stream",
     "text": [
      "train Loss: 0.0223 Acc: 0.9917\n"
     ]
    },
    {
     "data": {
      "application/vnd.jupyter.widget-view+json": {
       "model_id": "affd605d010142cb855e18d2febe7f5f",
       "version_major": 2,
       "version_minor": 0
      },
      "text/plain": [
       "  0%|          | 0/157 [00:00<?, ?it/s]"
      ]
     },
     "metadata": {},
     "output_type": "display_data"
    },
    {
     "name": "stdout",
     "output_type": "stream",
     "text": [
      "val Loss: 0.0278 Acc: 0.9894\n",
      "\n",
      "Epoch 3/9\n",
      "----------\n"
     ]
    },
    {
     "data": {
      "application/vnd.jupyter.widget-view+json": {
       "model_id": "a9b31e6193b04f84985969897cc3c794",
       "version_major": 2,
       "version_minor": 0
      },
      "text/plain": [
       "  0%|          | 0/625 [00:00<?, ?it/s]"
      ]
     },
     "metadata": {},
     "output_type": "display_data"
    },
    {
     "name": "stdout",
     "output_type": "stream",
     "text": [
      "train Loss: 0.0206 Acc: 0.9924\n"
     ]
    },
    {
     "data": {
      "application/vnd.jupyter.widget-view+json": {
       "model_id": "95340f34b1b24770aa66a46602e26863",
       "version_major": 2,
       "version_minor": 0
      },
      "text/plain": [
       "  0%|          | 0/157 [00:00<?, ?it/s]"
      ]
     },
     "metadata": {},
     "output_type": "display_data"
    },
    {
     "name": "stdout",
     "output_type": "stream",
     "text": [
      "val Loss: 0.0273 Acc: 0.9898\n",
      "\n",
      "Epoch 4/9\n",
      "----------\n"
     ]
    },
    {
     "data": {
      "application/vnd.jupyter.widget-view+json": {
       "model_id": "f430d2c03e1f4f5185531fa8ad57806b",
       "version_major": 2,
       "version_minor": 0
      },
      "text/plain": [
       "  0%|          | 0/625 [00:00<?, ?it/s]"
      ]
     },
     "metadata": {},
     "output_type": "display_data"
    },
    {
     "name": "stdout",
     "output_type": "stream",
     "text": [
      "train Loss: 0.0177 Acc: 0.9937\n"
     ]
    },
    {
     "data": {
      "application/vnd.jupyter.widget-view+json": {
       "model_id": "acb7821adad543ebb7b7eef3ff1c21fe",
       "version_major": 2,
       "version_minor": 0
      },
      "text/plain": [
       "  0%|          | 0/157 [00:00<?, ?it/s]"
      ]
     },
     "metadata": {},
     "output_type": "display_data"
    },
    {
     "name": "stdout",
     "output_type": "stream",
     "text": [
      "val Loss: 0.0254 Acc: 0.9908\n",
      "\n",
      "Epoch 5/9\n",
      "----------\n"
     ]
    },
    {
     "data": {
      "application/vnd.jupyter.widget-view+json": {
       "model_id": "029793ec49fd482f8a107d9a08f3b603",
       "version_major": 2,
       "version_minor": 0
      },
      "text/plain": [
       "  0%|          | 0/625 [00:00<?, ?it/s]"
      ]
     },
     "metadata": {},
     "output_type": "display_data"
    },
    {
     "name": "stdout",
     "output_type": "stream",
     "text": [
      "train Loss: 0.0156 Acc: 0.9947\n"
     ]
    },
    {
     "data": {
      "application/vnd.jupyter.widget-view+json": {
       "model_id": "359d2612b2ce48ad8000296789bad487",
       "version_major": 2,
       "version_minor": 0
      },
      "text/plain": [
       "  0%|          | 0/157 [00:00<?, ?it/s]"
      ]
     },
     "metadata": {},
     "output_type": "display_data"
    },
    {
     "name": "stdout",
     "output_type": "stream",
     "text": [
      "val Loss: 0.0326 Acc: 0.9892\n",
      "\n",
      "Epoch 6/9\n",
      "----------\n"
     ]
    },
    {
     "data": {
      "application/vnd.jupyter.widget-view+json": {
       "model_id": "5539f9570dcb4c31b1e10611714141de",
       "version_major": 2,
       "version_minor": 0
      },
      "text/plain": [
       "  0%|          | 0/625 [00:00<?, ?it/s]"
      ]
     },
     "metadata": {},
     "output_type": "display_data"
    },
    {
     "name": "stdout",
     "output_type": "stream",
     "text": [
      "train Loss: 0.0116 Acc: 0.9961\n"
     ]
    },
    {
     "data": {
      "application/vnd.jupyter.widget-view+json": {
       "model_id": "f749c3abd87040dcaa60ddff33a4bcf2",
       "version_major": 2,
       "version_minor": 0
      },
      "text/plain": [
       "  0%|          | 0/157 [00:00<?, ?it/s]"
      ]
     },
     "metadata": {},
     "output_type": "display_data"
    },
    {
     "name": "stdout",
     "output_type": "stream",
     "text": [
      "val Loss: 0.0374 Acc: 0.9882\n",
      "\n",
      "Epoch 7/9\n",
      "----------\n"
     ]
    },
    {
     "data": {
      "application/vnd.jupyter.widget-view+json": {
       "model_id": "dd4d782792dd4a369bef453471ac6243",
       "version_major": 2,
       "version_minor": 0
      },
      "text/plain": [
       "  0%|          | 0/625 [00:00<?, ?it/s]"
      ]
     },
     "metadata": {},
     "output_type": "display_data"
    },
    {
     "name": "stdout",
     "output_type": "stream",
     "text": [
      "train Loss: 0.0137 Acc: 0.9954\n"
     ]
    },
    {
     "data": {
      "application/vnd.jupyter.widget-view+json": {
       "model_id": "04054efff9f24956a130007b2c858c93",
       "version_major": 2,
       "version_minor": 0
      },
      "text/plain": [
       "  0%|          | 0/157 [00:00<?, ?it/s]"
      ]
     },
     "metadata": {},
     "output_type": "display_data"
    },
    {
     "name": "stdout",
     "output_type": "stream",
     "text": [
      "val Loss: 0.0311 Acc: 0.9888\n",
      "\n",
      "Epoch 8/9\n",
      "----------\n"
     ]
    },
    {
     "data": {
      "application/vnd.jupyter.widget-view+json": {
       "model_id": "8c43a19b6f9149c59216c88bb2815768",
       "version_major": 2,
       "version_minor": 0
      },
      "text/plain": [
       "  0%|          | 0/625 [00:00<?, ?it/s]"
      ]
     },
     "metadata": {},
     "output_type": "display_data"
    },
    {
     "name": "stdout",
     "output_type": "stream",
     "text": [
      "train Loss: 0.0128 Acc: 0.9951\n"
     ]
    },
    {
     "data": {
      "application/vnd.jupyter.widget-view+json": {
       "model_id": "6c2a86f8aaf946fcb549ed3100225a10",
       "version_major": 2,
       "version_minor": 0
      },
      "text/plain": [
       "  0%|          | 0/157 [00:00<?, ?it/s]"
      ]
     },
     "metadata": {},
     "output_type": "display_data"
    },
    {
     "name": "stdout",
     "output_type": "stream",
     "text": [
      "val Loss: 0.0350 Acc: 0.9866\n",
      "\n",
      "Epoch 9/9\n",
      "----------\n"
     ]
    },
    {
     "data": {
      "application/vnd.jupyter.widget-view+json": {
       "model_id": "97debc41f78b4e3580fd68f873672e49",
       "version_major": 2,
       "version_minor": 0
      },
      "text/plain": [
       "  0%|          | 0/625 [00:00<?, ?it/s]"
      ]
     },
     "metadata": {},
     "output_type": "display_data"
    },
    {
     "name": "stdout",
     "output_type": "stream",
     "text": [
      "train Loss: 0.0117 Acc: 0.9955\n"
     ]
    },
    {
     "data": {
      "application/vnd.jupyter.widget-view+json": {
       "model_id": "38d6bc073a2a4693af3f7911276b4239",
       "version_major": 2,
       "version_minor": 0
      },
      "text/plain": [
       "  0%|          | 0/157 [00:00<?, ?it/s]"
      ]
     },
     "metadata": {},
     "output_type": "display_data"
    },
    {
     "name": "stdout",
     "output_type": "stream",
     "text": [
      "val Loss: 0.0421 Acc: 0.9862\n",
      "\n",
      "Best val Acc: 0.990800\n"
     ]
    }
   ],
   "source": [
    "# setup loss function\n",
    "criterion = nn.CrossEntropyLoss()\n",
    "model_ft, hist = train_model(model_ft, dataloaders, criterion, optimizer_ft, num_epochs=10)"
   ]
  },
  {
   "cell_type": "code",
   "execution_count": 40,
   "id": "4c421749-2767-41d9-ba83-5dae0a5bbb4b",
   "metadata": {},
   "outputs": [
    {
     "data": {
      "text/plain": [
       "VGG(\n",
       "  (features): Sequential(\n",
       "    (0): Conv2d(3, 64, kernel_size=(3, 3), stride=(1, 1), padding=(1, 1))\n",
       "    (1): ReLU(inplace=True)\n",
       "    (2): Conv2d(64, 64, kernel_size=(3, 3), stride=(1, 1), padding=(1, 1))\n",
       "    (3): ReLU(inplace=True)\n",
       "    (4): MaxPool2d(kernel_size=2, stride=2, padding=0, dilation=1, ceil_mode=False)\n",
       "    (5): Conv2d(64, 128, kernel_size=(3, 3), stride=(1, 1), padding=(1, 1))\n",
       "    (6): ReLU(inplace=True)\n",
       "    (7): Conv2d(128, 128, kernel_size=(3, 3), stride=(1, 1), padding=(1, 1))\n",
       "    (8): ReLU(inplace=True)\n",
       "    (9): MaxPool2d(kernel_size=2, stride=2, padding=0, dilation=1, ceil_mode=False)\n",
       "    (10): Conv2d(128, 256, kernel_size=(3, 3), stride=(1, 1), padding=(1, 1))\n",
       "    (11): ReLU(inplace=True)\n",
       "    (12): Conv2d(256, 256, kernel_size=(3, 3), stride=(1, 1), padding=(1, 1))\n",
       "    (13): ReLU(inplace=True)\n",
       "    (14): Conv2d(256, 256, kernel_size=(3, 3), stride=(1, 1), padding=(1, 1))\n",
       "    (15): ReLU(inplace=True)\n",
       "    (16): MaxPool2d(kernel_size=2, stride=2, padding=0, dilation=1, ceil_mode=False)\n",
       "    (17): Conv2d(256, 512, kernel_size=(3, 3), stride=(1, 1), padding=(1, 1))\n",
       "    (18): ReLU(inplace=True)\n",
       "    (19): Conv2d(512, 512, kernel_size=(3, 3), stride=(1, 1), padding=(1, 1))\n",
       "    (20): ReLU(inplace=True)\n",
       "    (21): Conv2d(512, 512, kernel_size=(3, 3), stride=(1, 1), padding=(1, 1))\n",
       "    (22): ReLU(inplace=True)\n",
       "    (23): MaxPool2d(kernel_size=2, stride=2, padding=0, dilation=1, ceil_mode=False)\n",
       "    (24): Conv2d(512, 512, kernel_size=(3, 3), stride=(1, 1), padding=(1, 1))\n",
       "    (25): ReLU(inplace=True)\n",
       "    (26): Conv2d(512, 512, kernel_size=(3, 3), stride=(1, 1), padding=(1, 1))\n",
       "    (27): ReLU(inplace=True)\n",
       "    (28): Conv2d(512, 512, kernel_size=(3, 3), stride=(1, 1), padding=(1, 1))\n",
       "    (29): ReLU(inplace=True)\n",
       "    (30): MaxPool2d(kernel_size=2, stride=2, padding=0, dilation=1, ceil_mode=False)\n",
       "  )\n",
       "  (avgpool): AdaptiveAvgPool2d(output_size=(7, 7))\n",
       "  (classifier): Sequential(\n",
       "    (0): Linear(in_features=25088, out_features=4096, bias=True)\n",
       "    (1): ReLU(inplace=True)\n",
       "    (2): Dropout(p=0.5, inplace=False)\n",
       "    (3): Linear(in_features=4096, out_features=4096, bias=True)\n",
       "    (4): ReLU(inplace=True)\n",
       "    (5): Dropout(p=0.5, inplace=False)\n",
       "    (6): Linear(in_features=4096, out_features=2, bias=True)\n",
       "  )\n",
       ")"
      ]
     },
     "execution_count": 40,
     "metadata": {},
     "output_type": "execute_result"
    }
   ],
   "source": [
    "model_vgg = model_ft\n",
    "model_vgg = model_vgg.to(device)\n",
    "model_vgg.eval()"
   ]
  },
  {
   "cell_type": "code",
   "execution_count": 41,
   "id": "59b7ad92-e07f-4782-975d-eefd663fd6c4",
   "metadata": {},
   "outputs": [],
   "source": [
    "transforms_vgg_test = v2.Compose([\n",
    "    v2.ToPILImage(),\n",
    "    v2.Resize(size=(224, 224), antialias=True),\n",
    "    v2.ToTensor(),\n",
    "    v2.Normalize(mean=[0.485, 0.456, 0.406], std=[0.229, 0.224, 0.225]),\n",
    "])"
   ]
  },
  {
   "cell_type": "code",
   "execution_count": 42,
   "id": "3e142cca-f954-4378-82d0-ebc02424ec55",
   "metadata": {},
   "outputs": [],
   "source": [
    "import os\n",
    "TEST_DIR_VGG = \"data/test/unknown/\"\n",
    "paths_vgg = os.listdir(TEST_DIR_VGG)\n",
    "paths_vgg = sorted(paths_vgg, key=lambda name: int(name.split('/')[-1].split('.')[0]))\n",
    "\n",
    "answers_vgg = []\n",
    "for fname_vgg in paths_vgg:\n",
    "    img_vgg = Image.open(os.path.join(TEST_DIR_VGG, fname_vgg))\n",
    "    data_vgg = transforms_vgg_test(img_vgg)\n",
    "    data_vgg = data_vgg.unsqueeze(0)\n",
    "    data_vgg = data_vgg.to(device)\n",
    "\n",
    "    output_vgg = model_vgg(data_vgg)\n",
    "    prob_vgg = F.softmax(output_vgg, dim=1)[:, 1]\n",
    "    answers_vgg.append(prob_vgg.item())"
   ]
  },
  {
   "cell_type": "code",
   "execution_count": 43,
   "id": "be630fa1-a0b7-4701-87eb-7bb9d9430d75",
   "metadata": {},
   "outputs": [],
   "source": [
    "df_vgg = pd.DataFrame({\n",
    "    'id': [i + 1 for i in range(len(answers_vgg))],\n",
    "    'label': answers_vgg\n",
    "})\n",
    "df_vgg.to_csv('test_vgg_1.csv', index=None)"
   ]
  },
  {
   "attachments": {
    "555227b3-a9c0-46bf-b71b-f699350f3ecc.png": {
     "image/png": "[encoded data removed]"
    }
   },
   "cell_type": "markdown",
   "id": "617c621c-8498-4032-bd16-275c1501a48e",
   "metadata": {},
   "source": [
    "![image.png](attachment:555227b3-a9c0-46bf-b71b-f699350f3ecc.png)"
   ]
  },
  {
   "cell_type": "markdown",
   "id": "8d0332d4-8f88-4549-92bf-42e827badb73",
   "metadata": {},
   "source": [
    "##　Business Impact:\n",
    "\n",
    "The resulting model is designed to accurately classify images, offering potential applications in scenarios like quality control, security, or content categorization.\n",
    "The iterative training process ensures continual improvement, aligning the model more closely with the specific nuances of the business problem it aims to solve."
   ]
  }
 ],
 "metadata": {
  "kernelspec": {
   "display_name": "Python 3 (ipykernel)",
   "language": "python",
   "name": "python3"
  },
  "language_info": {
   "codemirror_mode": {
    "name": "ipython",
    "version": 3
   },
   "file_extension": ".py",
   "mimetype": "text/x-python",
   "name": "python",
   "nbconvert_exporter": "python",
   "pygments_lexer": "ipython3",
   "version": "3.10.9"
  }
 },
 "nbformat": 4,
 "nbformat_minor": 5
}
